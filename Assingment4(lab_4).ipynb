{
  "nbformat": 4,
  "nbformat_minor": 0,
  "metadata": {
    "colab": {
      "provenance": [],
      "authorship_tag": "ABX9TyPGkPu+Kh65Jb9QEKRt9Ltp",
      "include_colab_link": true
    },
    "kernelspec": {
      "name": "python3",
      "display_name": "Python 3"
    },
    "language_info": {
      "name": "python"
    }
  },
  "cells": [
    {
      "cell_type": "markdown",
      "metadata": {
        "id": "view-in-github",
        "colab_type": "text"
      },
      "source": [
        "<a href=\"https://colab.research.google.com/github/2303A51780/Python_DataScience_Batch-12/blob/main/Assingment4(lab_4).ipynb\" target=\"_parent\"><img src=\"https://colab.research.google.com/assets/colab-badge.svg\" alt=\"Open In Colab\"/></a>"
      ]
    },
    {
      "cell_type": "code",
      "execution_count": null,
      "metadata": {
        "id": "tlz5ZIAIyhdo",
        "colab": {
          "base_uri": "https://localhost:8080/"
        },
        "outputId": "7cffe2b5-f5b6-4f49-cd57-db3981cd7406"
      },
      "outputs": [
        {
          "output_type": "stream",
          "name": "stdout",
          "text": [
            "   Student_ID    Name   Math  Science  English\n",
            "0           1    Amit  88.00   92.000    81.00\n",
            "1           2   Priya  76.00   79.875    79.00\n",
            "2           3     Raj  78.75   85.000    84.00\n",
            "3           4   Sneha  59.00   61.000    79.75\n",
            "4           5   Karan  90.00   88.000    91.00\n",
            "5           6   Meena  67.00   70.000    72.00\n",
            "6           7   Arjun  82.00   79.875    80.00\n",
            "7           8    Neha  78.75   78.000    77.00\n",
            "8           9    Ravi  95.00   96.000    79.75\n",
            "9          10  Simran  73.00   69.000    74.00\n"
          ]
        }
      ],
      "source": [
        "import numpy as np\n",
        "import pandas as pd\n",
        "\n",
        "data = pd.read_csv(\"/content/student_scores.csv\")\n",
        "\n",
        "df = data.fillna(data.mean(numeric_only = True))\n",
        "\n",
        "print(df)\n"
      ]
    },
    {
      "cell_type": "code",
      "source": [
        "high = df[(df[\"Math\"]>75) & (df[\"Science\"]>75) & (df[\"English\"]>75)]\n",
        "print(high)"
      ],
      "metadata": {
        "colab": {
          "base_uri": "https://localhost:8080/"
        },
        "id": "Qb83gb8z8_R2",
        "outputId": "a2861481-caac-4c7b-f7a7-e63533fec90a"
      },
      "execution_count": 11,
      "outputs": [
        {
          "output_type": "stream",
          "name": "stdout",
          "text": [
            "   Student_ID   Name   Math  Science  English\n",
            "0           1   Amit  88.00   92.000    81.00\n",
            "1           2  Priya  76.00   79.875    79.00\n",
            "2           3    Raj  78.75   85.000    84.00\n",
            "4           5  Karan  90.00   88.000    91.00\n",
            "6           7  Arjun  82.00   79.875    80.00\n",
            "7           8   Neha  78.75   78.000    77.00\n",
            "8           9   Ravi  95.00   96.000    79.75\n"
          ]
        }
      ]
    },
    {
      "cell_type": "code",
      "source": [
        "import numpy as np\n",
        "import pandas as pd\n",
        "\n",
        "df = pd.read_csv(\"/content/patients (1).csv\")\n",
        "\n",
        "df_filled = df.fillna(df.median(numeric_only=True))\n",
        "print(df_filled)"
      ],
      "metadata": {
        "id": "qg0-_UBi3Cni",
        "colab": {
          "base_uri": "https://localhost:8080/"
        },
        "outputId": "a2441d6a-4849-47d4-f209-55ed5be404b3"
      },
      "execution_count": 14,
      "outputs": [
        {
          "output_type": "stream",
          "name": "stdout",
          "text": [
            "   Patient_ID       Name   Age  Gender     Diagnosis Admission_Date\n",
            "0         101      Alice  65.0  Female      Diabetes     2023-01-12\n",
            "1         102        Bob  60.0    Male  Hypertension     2023-02-15\n",
            "2         103  Catherine  54.0  Female      Diabetes     2023-03-10\n",
            "3         104      David  45.0    Male        Asthma     2023-04-05\n",
            "4         105        Eva  70.0  Female           Flu     2023-05-20\n",
            "5         106      Fiona  60.0  Female      Diabetes     2023-06-18\n",
            "6         107     George  60.0    Male      Diabetes     2023-07-22\n"
          ]
        }
      ]
    },
    {
      "cell_type": "code",
      "source": [
        "f = df[(df[\"Age\"]>50) & (df[\"Diagnosis\"] == \"Diabetes\")]\n",
        "print(f)"
      ],
      "metadata": {
        "colab": {
          "base_uri": "https://localhost:8080/"
        },
        "id": "tNhzFlCe9HJi",
        "outputId": "620f237f-68c3-417a-89e2-2deb37ebaa84"
      },
      "execution_count": 16,
      "outputs": [
        {
          "output_type": "stream",
          "name": "stdout",
          "text": [
            "   Patient_ID       Name   Age  Gender Diagnosis Admission_Date\n",
            "0         101      Alice  65.0  Female  Diabetes     2023-01-12\n",
            "2         103  Catherine  54.0  Female  Diabetes     2023-03-10\n",
            "6         107     George  60.0    Male  Diabetes     2023-07-22\n"
          ]
        }
      ]
    }
  ]
}